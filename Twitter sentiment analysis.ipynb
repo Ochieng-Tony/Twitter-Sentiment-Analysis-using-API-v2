{
 "cells": [
  {
   "cell_type": "code",
   "execution_count": 1,
   "id": "ba892c81-69cf-4eaa-ad62-2aeda4849196",
   "metadata": {},
   "outputs": [
    {
     "ename": "Forbidden",
     "evalue": "403 Forbidden\n453 - You currently have access to a subset of X API V2 endpoints and limited v1.1 endpoints (e.g. media post, oauth) only. If you need access to this endpoint, you may need a different access level. You can learn more here: https://developer.x.com/en/portal/product",
     "output_type": "error",
     "traceback": [
      "\u001b[31m---------------------------------------------------------------------------\u001b[39m",
      "\u001b[31mForbidden\u001b[39m                                 Traceback (most recent call last)",
      "\u001b[36mCell\u001b[39m\u001b[36m \u001b[39m\u001b[32mIn[1]\u001b[39m\u001b[32m, line 29\u001b[39m\n\u001b[32m     26\u001b[39m count = \u001b[32m100\u001b[39m  \u001b[38;5;66;03m# Number of tweets to fetch\u001b[39;00m\n\u001b[32m     28\u001b[39m tweets_list = []\n\u001b[32m---> \u001b[39m\u001b[32m29\u001b[39m \u001b[38;5;28;43;01mfor\u001b[39;49;00m\u001b[43m \u001b[49m\u001b[43mtweet\u001b[49m\u001b[43m \u001b[49m\u001b[38;5;129;43;01min\u001b[39;49;00m\u001b[43m \u001b[49m\u001b[43mtweepy\u001b[49m\u001b[43m.\u001b[49m\u001b[43mCursor\u001b[49m\u001b[43m(\u001b[49m\u001b[43mapi\u001b[49m\u001b[43m.\u001b[49m\u001b[43msearch_tweets\u001b[49m\u001b[43m,\u001b[49m\u001b[43m \u001b[49m\u001b[43mq\u001b[49m\u001b[43m=\u001b[49m\u001b[43mquery\u001b[49m\u001b[43m,\u001b[49m\u001b[43m \u001b[49m\u001b[43mlang\u001b[49m\u001b[43m=\u001b[49m\u001b[33;43m\"\u001b[39;49m\u001b[33;43men\u001b[39;49m\u001b[33;43m\"\u001b[39;49m\u001b[43m,\u001b[49m\u001b[43m \u001b[49m\u001b[43mtweet_mode\u001b[49m\u001b[43m=\u001b[49m\u001b[33;43m\"\u001b[39;49m\u001b[33;43mextended\u001b[39;49m\u001b[33;43m\"\u001b[39;49m\u001b[43m)\u001b[49m\u001b[43m.\u001b[49m\u001b[43mitems\u001b[49m\u001b[43m(\u001b[49m\u001b[43mcount\u001b[49m\u001b[43m)\u001b[49m\u001b[43m:\u001b[49m\n\u001b[32m     30\u001b[39m \u001b[43m    \u001b[49m\u001b[43mtweets_list\u001b[49m\u001b[43m.\u001b[49m\u001b[43mappend\u001b[49m\u001b[43m(\u001b[49m\u001b[43mtweet\u001b[49m\u001b[43m.\u001b[49m\u001b[43mfull_text\u001b[49m\u001b[43m)\u001b[49m\n\u001b[32m     32\u001b[39m \u001b[38;5;66;03m# Convert to DataFrame\u001b[39;00m\n",
      "\u001b[36mFile \u001b[39m\u001b[32m~\\AppData\\Local\\Programs\\Python\\Python313\\Lib\\site-packages\\tweepy\\cursor.py:86\u001b[39m, in \u001b[36mBaseIterator.__next__\u001b[39m\u001b[34m(self)\u001b[39m\n\u001b[32m     85\u001b[39m \u001b[38;5;28;01mdef\u001b[39;00m\u001b[38;5;250m \u001b[39m\u001b[34m__next__\u001b[39m(\u001b[38;5;28mself\u001b[39m):\n\u001b[32m---> \u001b[39m\u001b[32m86\u001b[39m     \u001b[38;5;28;01mreturn\u001b[39;00m \u001b[38;5;28;43mself\u001b[39;49m\u001b[43m.\u001b[49m\u001b[43mnext\u001b[49m\u001b[43m(\u001b[49m\u001b[43m)\u001b[49m\n",
      "\u001b[36mFile \u001b[39m\u001b[32m~\\AppData\\Local\\Programs\\Python\\Python313\\Lib\\site-packages\\tweepy\\cursor.py:286\u001b[39m, in \u001b[36mItemIterator.next\u001b[39m\u001b[34m(self)\u001b[39m\n\u001b[32m    283\u001b[39m     \u001b[38;5;28;01mraise\u001b[39;00m \u001b[38;5;167;01mStopIteration\u001b[39;00m\n\u001b[32m    284\u001b[39m \u001b[38;5;28;01mif\u001b[39;00m \u001b[38;5;28mself\u001b[39m.current_page \u001b[38;5;129;01mis\u001b[39;00m \u001b[38;5;28;01mNone\u001b[39;00m \u001b[38;5;129;01mor\u001b[39;00m \u001b[38;5;28mself\u001b[39m.page_index == \u001b[38;5;28mlen\u001b[39m(\u001b[38;5;28mself\u001b[39m.current_page) - \u001b[32m1\u001b[39m:\n\u001b[32m    285\u001b[39m     \u001b[38;5;66;03m# Reached end of current page, get the next page...\u001b[39;00m\n\u001b[32m--> \u001b[39m\u001b[32m286\u001b[39m     \u001b[38;5;28mself\u001b[39m.current_page = \u001b[38;5;28;43mnext\u001b[39;49m\u001b[43m(\u001b[49m\u001b[38;5;28;43mself\u001b[39;49m\u001b[43m.\u001b[49m\u001b[43mpage_iterator\u001b[49m\u001b[43m)\u001b[49m\n\u001b[32m    287\u001b[39m     \u001b[38;5;28;01mwhile\u001b[39;00m \u001b[38;5;28mlen\u001b[39m(\u001b[38;5;28mself\u001b[39m.current_page) == \u001b[32m0\u001b[39m:\n\u001b[32m    288\u001b[39m         \u001b[38;5;28mself\u001b[39m.current_page = \u001b[38;5;28mnext\u001b[39m(\u001b[38;5;28mself\u001b[39m.page_iterator)\n",
      "\u001b[36mFile \u001b[39m\u001b[32m~\\AppData\\Local\\Programs\\Python\\Python313\\Lib\\site-packages\\tweepy\\cursor.py:86\u001b[39m, in \u001b[36mBaseIterator.__next__\u001b[39m\u001b[34m(self)\u001b[39m\n\u001b[32m     85\u001b[39m \u001b[38;5;28;01mdef\u001b[39;00m\u001b[38;5;250m \u001b[39m\u001b[34m__next__\u001b[39m(\u001b[38;5;28mself\u001b[39m):\n\u001b[32m---> \u001b[39m\u001b[32m86\u001b[39m     \u001b[38;5;28;01mreturn\u001b[39;00m \u001b[38;5;28;43mself\u001b[39;49m\u001b[43m.\u001b[49m\u001b[43mnext\u001b[49m\u001b[43m(\u001b[49m\u001b[43m)\u001b[49m\n",
      "\u001b[36mFile \u001b[39m\u001b[32m~\\AppData\\Local\\Programs\\Python\\Python313\\Lib\\site-packages\\tweepy\\cursor.py:167\u001b[39m, in \u001b[36mIdIterator.next\u001b[39m\u001b[34m(self)\u001b[39m\n\u001b[32m    164\u001b[39m     \u001b[38;5;28;01mraise\u001b[39;00m \u001b[38;5;167;01mStopIteration\u001b[39;00m\n\u001b[32m    166\u001b[39m \u001b[38;5;28;01mif\u001b[39;00m \u001b[38;5;28mself\u001b[39m.index >= \u001b[38;5;28mlen\u001b[39m(\u001b[38;5;28mself\u001b[39m.results) - \u001b[32m1\u001b[39m:\n\u001b[32m--> \u001b[39m\u001b[32m167\u001b[39m     data = \u001b[38;5;28;43mself\u001b[39;49m\u001b[43m.\u001b[49m\u001b[43mmethod\u001b[49m\u001b[43m(\u001b[49m\u001b[43mmax_id\u001b[49m\u001b[43m=\u001b[49m\u001b[38;5;28;43mself\u001b[39;49m\u001b[43m.\u001b[49m\u001b[43mmax_id\u001b[49m\u001b[43m,\u001b[49m\u001b[43m \u001b[49m\u001b[43mparser\u001b[49m\u001b[43m=\u001b[49m\u001b[43mRawParser\u001b[49m\u001b[43m(\u001b[49m\u001b[43m)\u001b[49m\u001b[43m,\u001b[49m\u001b[43m \u001b[49m\u001b[43m*\u001b[49m\u001b[38;5;28;43mself\u001b[39;49m\u001b[43m.\u001b[49m\u001b[43margs\u001b[49m\u001b[43m,\u001b[49m\u001b[43m \u001b[49m\u001b[43m*\u001b[49m\u001b[43m*\u001b[49m\u001b[38;5;28;43mself\u001b[39;49m\u001b[43m.\u001b[49m\u001b[43mkwargs\u001b[49m\u001b[43m)\u001b[49m\n\u001b[32m    169\u001b[39m     model = ModelParser().parse(\n\u001b[32m    170\u001b[39m         data, api = \u001b[38;5;28mself\u001b[39m.method.\u001b[34m__self__\u001b[39m,\n\u001b[32m    171\u001b[39m         payload_list=\u001b[38;5;28mself\u001b[39m.method.payload_list,\n\u001b[32m    172\u001b[39m         payload_type=\u001b[38;5;28mself\u001b[39m.method.payload_type\n\u001b[32m    173\u001b[39m     )\n\u001b[32m    174\u001b[39m     result = \u001b[38;5;28mself\u001b[39m.method.\u001b[34m__self__\u001b[39m.parser.parse(\n\u001b[32m    175\u001b[39m         data, api = \u001b[38;5;28mself\u001b[39m.method.\u001b[34m__self__\u001b[39m,\n\u001b[32m    176\u001b[39m         payload_list=\u001b[38;5;28mself\u001b[39m.method.payload_list,\n\u001b[32m    177\u001b[39m         payload_type=\u001b[38;5;28mself\u001b[39m.method.payload_type\n\u001b[32m    178\u001b[39m     )\n",
      "\u001b[36mFile \u001b[39m\u001b[32m~\\AppData\\Local\\Programs\\Python\\Python313\\Lib\\site-packages\\tweepy\\api.py:32\u001b[39m, in \u001b[36mpagination.<locals>.decorator.<locals>.wrapper\u001b[39m\u001b[34m(*args, **kwargs)\u001b[39m\n\u001b[32m     30\u001b[39m \u001b[38;5;129m@functools\u001b[39m.wraps(method)\n\u001b[32m     31\u001b[39m \u001b[38;5;28;01mdef\u001b[39;00m\u001b[38;5;250m \u001b[39m\u001b[34mwrapper\u001b[39m(*args, **kwargs):\n\u001b[32m---> \u001b[39m\u001b[32m32\u001b[39m     \u001b[38;5;28;01mreturn\u001b[39;00m \u001b[43mmethod\u001b[49m\u001b[43m(\u001b[49m\u001b[43m*\u001b[49m\u001b[43margs\u001b[49m\u001b[43m,\u001b[49m\u001b[43m \u001b[49m\u001b[43m*\u001b[49m\u001b[43m*\u001b[49m\u001b[43mkwargs\u001b[49m\u001b[43m)\u001b[49m\n",
      "\u001b[36mFile \u001b[39m\u001b[32m~\\AppData\\Local\\Programs\\Python\\Python313\\Lib\\site-packages\\tweepy\\api.py:45\u001b[39m, in \u001b[36mpayload.<locals>.decorator.<locals>.wrapper\u001b[39m\u001b[34m(*args, **kwargs)\u001b[39m\n\u001b[32m     43\u001b[39m kwargs[\u001b[33m'\u001b[39m\u001b[33mpayload_list\u001b[39m\u001b[33m'\u001b[39m] = payload_list\n\u001b[32m     44\u001b[39m kwargs[\u001b[33m'\u001b[39m\u001b[33mpayload_type\u001b[39m\u001b[33m'\u001b[39m] = payload_type\n\u001b[32m---> \u001b[39m\u001b[32m45\u001b[39m \u001b[38;5;28;01mreturn\u001b[39;00m \u001b[43mmethod\u001b[49m\u001b[43m(\u001b[49m\u001b[43m*\u001b[49m\u001b[43margs\u001b[49m\u001b[43m,\u001b[49m\u001b[43m \u001b[49m\u001b[43m*\u001b[49m\u001b[43m*\u001b[49m\u001b[43mkwargs\u001b[49m\u001b[43m)\u001b[49m\n",
      "\u001b[36mFile \u001b[39m\u001b[32m~\\AppData\\Local\\Programs\\Python\\Python313\\Lib\\site-packages\\tweepy\\api.py:1221\u001b[39m, in \u001b[36mAPI.search_tweets\u001b[39m\u001b[34m(self, q, **kwargs)\u001b[39m\n\u001b[32m   1117\u001b[39m \u001b[38;5;129m@pagination\u001b[39m(mode=\u001b[33m'\u001b[39m\u001b[33mid\u001b[39m\u001b[33m'\u001b[39m)\n\u001b[32m   1118\u001b[39m \u001b[38;5;129m@payload\u001b[39m(\u001b[33m'\u001b[39m\u001b[33msearch_results\u001b[39m\u001b[33m'\u001b[39m)\n\u001b[32m   1119\u001b[39m \u001b[38;5;28;01mdef\u001b[39;00m\u001b[38;5;250m \u001b[39m\u001b[34msearch_tweets\u001b[39m(\u001b[38;5;28mself\u001b[39m, q, **kwargs):\n\u001b[32m   1120\u001b[39m \u001b[38;5;250m    \u001b[39m\u001b[33;03m\"\"\"search_tweets(q, *, geocode, lang, locale, result_type, count, \\\u001b[39;00m\n\u001b[32m   1121\u001b[39m \u001b[33;03m                     until, since_id, max_id, include_entities)\u001b[39;00m\n\u001b[32m   1122\u001b[39m \n\u001b[32m   (...)\u001b[39m\u001b[32m   1219\u001b[39m \u001b[33;03m        2023.: https://twittercommunity.com/t/x-api-v2-migration/203391\u001b[39;00m\n\u001b[32m   1220\u001b[39m \u001b[33;03m    \"\"\"\u001b[39;00m\n\u001b[32m-> \u001b[39m\u001b[32m1221\u001b[39m     \u001b[38;5;28;01mreturn\u001b[39;00m \u001b[38;5;28;43mself\u001b[39;49m\u001b[43m.\u001b[49m\u001b[43mrequest\u001b[49m\u001b[43m(\u001b[49m\n\u001b[32m   1222\u001b[39m \u001b[43m        \u001b[49m\u001b[33;43m'\u001b[39;49m\u001b[33;43mGET\u001b[39;49m\u001b[33;43m'\u001b[39;49m\u001b[43m,\u001b[49m\u001b[43m \u001b[49m\u001b[33;43m'\u001b[39;49m\u001b[33;43msearch/tweets\u001b[39;49m\u001b[33;43m'\u001b[39;49m\u001b[43m,\u001b[49m\u001b[43m \u001b[49m\u001b[43mendpoint_parameters\u001b[49m\u001b[43m=\u001b[49m\u001b[43m(\u001b[49m\n\u001b[32m   1223\u001b[39m \u001b[43m            \u001b[49m\u001b[33;43m'\u001b[39;49m\u001b[33;43mq\u001b[39;49m\u001b[33;43m'\u001b[39;49m\u001b[43m,\u001b[49m\u001b[43m \u001b[49m\u001b[33;43m'\u001b[39;49m\u001b[33;43mgeocode\u001b[39;49m\u001b[33;43m'\u001b[39;49m\u001b[43m,\u001b[49m\u001b[43m \u001b[49m\u001b[33;43m'\u001b[39;49m\u001b[33;43mlang\u001b[39;49m\u001b[33;43m'\u001b[39;49m\u001b[43m,\u001b[49m\u001b[43m \u001b[49m\u001b[33;43m'\u001b[39;49m\u001b[33;43mlocale\u001b[39;49m\u001b[33;43m'\u001b[39;49m\u001b[43m,\u001b[49m\u001b[43m \u001b[49m\u001b[33;43m'\u001b[39;49m\u001b[33;43mresult_type\u001b[39;49m\u001b[33;43m'\u001b[39;49m\u001b[43m,\u001b[49m\u001b[43m \u001b[49m\u001b[33;43m'\u001b[39;49m\u001b[33;43mcount\u001b[39;49m\u001b[33;43m'\u001b[39;49m\u001b[43m,\u001b[49m\n\u001b[32m   1224\u001b[39m \u001b[43m            \u001b[49m\u001b[33;43m'\u001b[39;49m\u001b[33;43muntil\u001b[39;49m\u001b[33;43m'\u001b[39;49m\u001b[43m,\u001b[49m\u001b[43m \u001b[49m\u001b[33;43m'\u001b[39;49m\u001b[33;43msince_id\u001b[39;49m\u001b[33;43m'\u001b[39;49m\u001b[43m,\u001b[49m\u001b[43m \u001b[49m\u001b[33;43m'\u001b[39;49m\u001b[33;43mmax_id\u001b[39;49m\u001b[33;43m'\u001b[39;49m\u001b[43m,\u001b[49m\u001b[43m \u001b[49m\u001b[33;43m'\u001b[39;49m\u001b[33;43minclude_entities\u001b[39;49m\u001b[33;43m'\u001b[39;49m\n\u001b[32m   1225\u001b[39m \u001b[43m        \u001b[49m\u001b[43m)\u001b[49m\u001b[43m,\u001b[49m\u001b[43m \u001b[49m\u001b[43mq\u001b[49m\u001b[43m=\u001b[49m\u001b[43mq\u001b[49m\u001b[43m,\u001b[49m\u001b[43m \u001b[49m\u001b[43m*\u001b[49m\u001b[43m*\u001b[49m\u001b[43mkwargs\u001b[49m\n\u001b[32m   1226\u001b[39m \u001b[43m    \u001b[49m\u001b[43m)\u001b[49m\n",
      "\u001b[36mFile \u001b[39m\u001b[32m~\\AppData\\Local\\Programs\\Python\\Python313\\Lib\\site-packages\\tweepy\\api.py:270\u001b[39m, in \u001b[36mAPI.request\u001b[39m\u001b[34m(self, method, endpoint, endpoint_parameters, params, headers, json_payload, parser, payload_list, payload_type, post_data, files, require_auth, return_cursors, upload_api, use_cache, **kwargs)\u001b[39m\n\u001b[32m    268\u001b[39m     \u001b[38;5;28;01mraise\u001b[39;00m Unauthorized(resp)\n\u001b[32m    269\u001b[39m \u001b[38;5;28;01mif\u001b[39;00m resp.status_code == \u001b[32m403\u001b[39m:\n\u001b[32m--> \u001b[39m\u001b[32m270\u001b[39m     \u001b[38;5;28;01mraise\u001b[39;00m Forbidden(resp)\n\u001b[32m    271\u001b[39m \u001b[38;5;28;01mif\u001b[39;00m resp.status_code == \u001b[32m404\u001b[39m:\n\u001b[32m    272\u001b[39m     \u001b[38;5;28;01mraise\u001b[39;00m NotFound(resp)\n",
      "\u001b[31mForbidden\u001b[39m: 403 Forbidden\n453 - You currently have access to a subset of X API V2 endpoints and limited v1.1 endpoints (e.g. media post, oauth) only. If you need access to this endpoint, you may need a different access level. You can learn more here: https://developer.x.com/en/portal/product"
     ]
    }
   ],
   "source": [
    "import tweepy\n",
    "import pandas as pd\n",
    "from textblob import TextBlob\n",
    "import matplotlib.pyplot as plt\n",
    "import seaborn as sns\n",
    "\n",
    "# ==========================\n",
    "# Step 1: Twitter API Keys\n",
    "# ==========================\n",
    "api_key = \"xs6pgIlYjy5l2T11Uz76sWMTz\"\n",
    "api_secret = \"etVKiMdelD4LCWTRxNUnkpM6zIuOJffm0fGfgmfGYXa5t6MA0f\"\n",
    "access_token = \"1372575481111982082-WLFOFH4yBku4Lcu2hKVtXtKUj2qX63\"\n",
    "access_token_secret = \"rhn6nEplKF5TcNpT0iwyr8s8y4yzbdT4RXEeXwukr9ekG\"\n",
    "\n",
    "# ==========================\n",
    "# Step 2: Authenticate\n",
    "# ==========================\n",
    "auth = tweepy.OAuthHandler(api_key, api_secret)\n",
    "auth.set_access_token(access_token, access_token_secret)\n",
    "api = tweepy.API(auth)\n",
    "\n",
    "# ==========================\n",
    "# Step 3: Search Tweets\n",
    "# ==========================\n",
    "query = \"Data Science\"  # Change search keyword here\n",
    "count = 100  # Number of tweets to fetch\n",
    "\n",
    "tweets_list = []\n",
    "for tweet in tweepy.Cursor(api.search_tweets, q=query, lang=\"en\", tweet_mode=\"extended\").items(count):\n",
    "    tweets_list.append(tweet.full_text)\n",
    "\n",
    "# Convert to DataFrame\n",
    "df = pd.DataFrame(tweets_list, columns=[\"Tweet\"])\n",
    "\n",
    "# ==========================\n",
    "# Step 4: Sentiment Analysis\n",
    "# ==========================\n",
    "def get_sentiment(text):\n",
    "    analysis = TextBlob(text)\n",
    "    if analysis.sentiment.polarity > 0:\n",
    "        return \"Positive\"\n",
    "    elif analysis.sentiment.polarity == 0:\n",
    "        return \"Neutral\"\n",
    "    else:\n",
    "        return \"Negative\"\n",
    "\n",
    "df[\"Sentiment\"] = df[\"Tweet\"].apply(get_sentiment)\n",
    "\n",
    "# ==========================\n",
    "# Step 5: Visualize Results\n",
    "# ==========================\n",
    "sns.countplot(x=\"Sentiment\", data=df, palette=\"viridis\")\n",
    "plt.title(f\"Sentiment Analysis for '{query}' Tweets\")\n",
    "plt.show()\n",
    "\n",
    "# ==========================\n",
    "# Step 6: Save to CSV\n",
    "# ==========================\n",
    "df.to_csv(\"twitter_sentiment_results.csv\", index=False)\n",
    "print(\"Results saved to twitter_sentiment_results.csv\")"
   ]
  },
  {
   "cell_type": "code",
   "execution_count": null,
   "id": "d31ca0fd-8d8c-4288-a81c-0294d6e219ad",
   "metadata": {},
   "outputs": [],
   "source": []
  }
 ],
 "metadata": {
  "kernelspec": {
   "display_name": "Python 3 (ipykernel)",
   "language": "python",
   "name": "python3"
  },
  "language_info": {
   "codemirror_mode": {
    "name": "ipython",
    "version": 3
   },
   "file_extension": ".py",
   "mimetype": "text/x-python",
   "name": "python",
   "nbconvert_exporter": "python",
   "pygments_lexer": "ipython3",
   "version": "3.13.7"
  }
 },
 "nbformat": 4,
 "nbformat_minor": 5
}
